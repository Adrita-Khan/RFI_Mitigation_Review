{
  "nbformat": 4,
  "nbformat_minor": 0,
  "metadata": {
    "colab": {
      "provenance": []
    },
    "kernelspec": {
      "name": "python3",
      "display_name": "Python 3"
    },
    "language_info": {
      "name": "python"
    }
  },
  "cells": [
    {
      "cell_type": "code",
      "execution_count": 14,
      "metadata": {
        "id": "s8FcfjnfTfSt"
      },
      "outputs": [],
      "source": [
        "pip install -q ads"
      ]
    },
    {
      "cell_type": "markdown",
      "source": [
        "- ### Query: abs:\"radio frequency interference\" AND abs:\"machine learning\" AND property:refereed AND collection:astronomy"
      ],
      "metadata": {
        "id": "qDziHuU5VyhJ"
      }
    },
    {
      "cell_type": "code",
      "source": [
        "import ads\n",
        "import pandas as pd\n",
        "\n",
        "# Replace with your NASA ADS API key\n",
        "ads.config.token = '' # Add your ADS API token here\n",
        "\n",
        "# Define the refined search query\n",
        "search_query = (\n",
        "    'abs:\"radio frequency interference\" AND abs:\"machine learning\" AND property:refereed AND collection:astronomy'\n",
        ")\n",
        "\n",
        "# Perform the query\n",
        "papers = list(ads.SearchQuery(\n",
        "    q=search_query,\n",
        "    fl=['title', 'author', 'year', 'doi', 'citation_count', 'pub', 'keyword'],\n",
        "    max_pages=400\n",
        "))\n",
        "\n",
        "# Collect data\n",
        "data = []\n",
        "for paper in papers:\n",
        "    title = paper.title[0] if paper.title else ''\n",
        "    authors = ', '.join(paper.author) if paper.author else ''\n",
        "    year = paper.year if paper.year else ''\n",
        "    link = f'https://doi.org/{paper.doi[0]}' if paper.doi else ''\n",
        "    citation_count = paper.citation_count if paper.citation_count else 0\n",
        "    journal = paper.pub if paper.pub else ''\n",
        "    keywords = ', '.join(paper.keyword) if paper.keyword else ''\n",
        "\n",
        "    data.append({\n",
        "        'Title': title,\n",
        "        'Author(s)': authors,\n",
        "        'Year': year,\n",
        "        'DOI Link': link,\n",
        "        'Citation Count': citation_count,\n",
        "        'Journal': journal,\n",
        "        'Keywords': keywords\n",
        "    })\n",
        "\n",
        "# Create DataFrame\n",
        "df = pd.DataFrame(data)\n",
        "\n",
        "# Save results to Excel\n",
        "output_filename = 'nasa_ads_ML_oct_2025.xlsx' # Added .xlsx extension\n",
        "df.to_excel(output_filename, index=False)\n",
        "\n",
        "print(f\"Data has been successfully saved to '{output_filename}'.\")"
      ],
      "metadata": {
        "colab": {
          "base_uri": "https://localhost:8080/"
        },
        "id": "J9EbUF6BTlVy",
        "outputId": "0ff73a7c-8aea-443b-a569-470732a74768"
      },
      "execution_count": 15,
      "outputs": [
        {
          "output_type": "stream",
          "name": "stdout",
          "text": [
            "Data has been successfully saved to 'nasa_ads_ML_oct_2025.xlsx'.\n"
          ]
        }
      ]
    },
    {
      "cell_type": "markdown",
      "source": [
        "- ### abs:\"radio frequency interference\" AND abs:\"neural network\" AND property:refereed AND collection:astronomy"
      ],
      "metadata": {
        "id": "Bu3UGwAGV_eL"
      }
    },
    {
      "cell_type": "code",
      "source": [
        "import ads\n",
        "import pandas as pd\n",
        "\n",
        "# Replace with your NASA ADS API key\n",
        "ads.config.token = '' # Add your ADS API token here\n",
        "\n",
        "# Define the refined search query\n",
        "search_query = (\n",
        "    'abs:\"radio frequency interference\" AND abs:\"neural network\" AND property:refereed AND collection:astronomy'\n",
        ")\n",
        "\n",
        "# Perform the query\n",
        "papers = list(ads.SearchQuery(\n",
        "    q=search_query,\n",
        "    fl=['title', 'author', 'year', 'doi', 'citation_count', 'pub', 'keyword'],\n",
        "    max_pages=400\n",
        "))\n",
        "\n",
        "# Collect data\n",
        "data = []\n",
        "for paper in papers:\n",
        "    title = paper.title[0] if paper.title else ''\n",
        "    authors = ', '.join(paper.author) if paper.author else ''\n",
        "    year = paper.year if paper.year else ''\n",
        "    link = f'https://doi.org/{paper.doi[0]}' if paper.doi else ''\n",
        "    citation_count = paper.citation_count if paper.citation_count else 0\n",
        "    journal = paper.pub if paper.pub else ''\n",
        "    keywords = ', '.join(paper.keyword) if paper.keyword else ''\n",
        "\n",
        "    data.append({\n",
        "        'Title': title,\n",
        "        'Author(s)': authors,\n",
        "        'Year': year,\n",
        "        'DOI Link': link,\n",
        "        'Citation Count': citation_count,\n",
        "        'Journal': journal,\n",
        "        'Keywords': keywords\n",
        "    })\n",
        "\n",
        "# Create DataFrame\n",
        "df = pd.DataFrame(data)\n",
        "\n",
        "# Save results to Excel\n",
        "output_filename = 'nasa_ads_NN_oct_2025.xlsx' # Added .xlsx extension\n",
        "df.to_excel(output_filename, index=False)\n",
        "\n",
        "print(f\"Data has been successfully saved to '{output_filename}'.\")"
      ],
      "metadata": {
        "colab": {
          "base_uri": "https://localhost:8080/"
        },
        "id": "H2aSNXrHVgrv",
        "outputId": "4850f360-e3b8-4754-f17b-3164622e4837"
      },
      "execution_count": 16,
      "outputs": [
        {
          "output_type": "stream",
          "name": "stdout",
          "text": [
            "Data has been successfully saved to 'nasa_ads_NN_oct_2025.xlsx'.\n"
          ]
        }
      ]
    },
    {
      "cell_type": "markdown",
      "source": [
        "- ### abs:\"radio frequency interference\" AND abs:\"deep learning\" AND property:refereed AND collection:astronomy"
      ],
      "metadata": {
        "id": "l7yfzsSPWE54"
      }
    },
    {
      "cell_type": "code",
      "source": [
        "import ads\n",
        "import pandas as pd\n",
        "\n",
        "# Replace with your NASA ADS API key\n",
        "ads.config.token = '' # Add your ADS API token here\n",
        "\n",
        "# Define the refined search query\n",
        "search_query = (\n",
        "    'abs:\"radio frequency interference\" AND abs:\"deep learning\" AND property:refereed AND collection:astronomy'\n",
        ")\n",
        "\n",
        "# Perform the query\n",
        "papers = list(ads.SearchQuery(\n",
        "    q=search_query,\n",
        "    fl=['title', 'author', 'year', 'doi', 'citation_count', 'pub', 'keyword'],\n",
        "    max_pages=400\n",
        "))\n",
        "\n",
        "# Collect data\n",
        "data = []\n",
        "for paper in papers:\n",
        "    title = paper.title[0] if paper.title else ''\n",
        "    authors = ', '.join(paper.author) if paper.author else ''\n",
        "    year = paper.year if paper.year else ''\n",
        "    link = f'https://doi.org/{paper.doi[0]}' if paper.doi else ''\n",
        "    citation_count = paper.citation_count if paper.citation_count else 0\n",
        "    journal = paper.pub if paper.pub else ''\n",
        "    keywords = ', '.join(paper.keyword) if paper.keyword else ''\n",
        "\n",
        "    data.append({\n",
        "        'Title': title,\n",
        "        'Author(s)': authors,\n",
        "        'Year': year,\n",
        "        'DOI Link': link,\n",
        "        'Citation Count': citation_count,\n",
        "        'Journal': journal,\n",
        "        'Keywords': keywords\n",
        "    })\n",
        "\n",
        "# Create DataFrame\n",
        "df = pd.DataFrame(data)\n",
        "\n",
        "# Save results to Excel\n",
        "output_filename = 'nasa_ads_DL_oct_2025.xlsx' # Added .xlsx extension\n",
        "df.to_excel(output_filename, index=False)\n",
        "\n",
        "print(f\"Data has been successfully saved to '{output_filename}'.\")"
      ],
      "metadata": {
        "colab": {
          "base_uri": "https://localhost:8080/"
        },
        "id": "f7sJENjMVguW",
        "outputId": "4cde0852-80e8-4c6c-a3ac-b38a1a88ef92"
      },
      "execution_count": 17,
      "outputs": [
        {
          "output_type": "stream",
          "name": "stdout",
          "text": [
            "Data has been successfully saved to 'nasa_ads_DL_oct_2025.xlsx'.\n"
          ]
        }
      ]
    },
    {
      "cell_type": "markdown",
      "source": [
        "- ### abs:\"RFI\" AND abs:\"machine learning\" AND property:refereed AND collection:astronomy"
      ],
      "metadata": {
        "id": "AIqkterCWtam"
      }
    },
    {
      "cell_type": "code",
      "source": [
        "import ads\n",
        "import pandas as pd\n",
        "\n",
        "# Replace with your NASA ADS API key\n",
        "ads.config.token = '' # Add your ADS API token here\n",
        "\n",
        "# Define the refined search query\n",
        "search_query = (\n",
        "    'abs:\"RFI\" AND abs:\"machine learning\" AND property:refereed AND collection:astronomy'\n",
        ")\n",
        "\n",
        "# Perform the query\n",
        "papers = list(ads.SearchQuery(\n",
        "    q=search_query,\n",
        "    fl=['title', 'author', 'year', 'doi', 'citation_count', 'pub', 'keyword'],\n",
        "    max_pages=400\n",
        "))\n",
        "\n",
        "# Collect data\n",
        "data = []\n",
        "for paper in papers:\n",
        "    title = paper.title[0] if paper.title else ''\n",
        "    authors = ', '.join(paper.author) if paper.author else ''\n",
        "    year = paper.year if paper.year else ''\n",
        "    link = f'https://doi.org/{paper.doi[0]}' if paper.doi else ''\n",
        "    citation_count = paper.citation_count if paper.citation_count else 0\n",
        "    journal = paper.pub if paper.pub else ''\n",
        "    keywords = ', '.join(paper.keyword) if paper.keyword else ''\n",
        "\n",
        "    data.append({\n",
        "        'Title': title,\n",
        "        'Author(s)': authors,\n",
        "        'Year': year,\n",
        "        'DOI Link': link,\n",
        "        'Citation Count': citation_count,\n",
        "        'Journal': journal,\n",
        "        'Keywords': keywords\n",
        "    })\n",
        "\n",
        "# Create DataFrame\n",
        "df = pd.DataFrame(data)\n",
        "\n",
        "# Save results to Excel\n",
        "output_filename = 'nasa_ads_RFI_oct_2025.xlsx' # Added .xlsx extension\n",
        "df.to_excel(output_filename, index=False)\n",
        "\n",
        "print(f\"Data has been successfully saved to '{output_filename}'.\")"
      ],
      "metadata": {
        "colab": {
          "base_uri": "https://localhost:8080/"
        },
        "id": "JQGuT8IUVhHo",
        "outputId": "f79e2f4e-8067-4c54-a05a-0d3485a14cb6"
      },
      "execution_count": 18,
      "outputs": [
        {
          "output_type": "stream",
          "name": "stdout",
          "text": [
            "Data has been successfully saved to 'nasa_ads_RFI_oct_2025.xlsx'.\n"
          ]
        }
      ]
    }
  ]
}